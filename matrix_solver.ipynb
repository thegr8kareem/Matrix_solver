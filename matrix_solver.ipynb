{
 "cells": [
  {
   "cell_type": "code",
   "execution_count": 1,
   "metadata": {},
   "outputs": [],
   "source": [
    "import numpy as np\n",
    "import pandas as pd\n",
    "\n",
    "\n"
   ]
  },
  {
   "cell_type": "code",
   "execution_count": 4,
   "metadata": {},
   "outputs": [
    {
     "name": "stdout",
     "output_type": "stream",
     "text": [
      "You can use a maximum of three matrices\n",
      "Enter the elements of matrix 1\n",
      "[[4. 6.]]\n",
      "Enter the elements of matrix 2\n",
      "[[4.]\n",
      " [6.]]\n",
      "The result is: \n",
      " [[52.]]\n"
     ]
    }
   ],
   "source": [
    "import random as rd\n",
    "\n",
    "\n",
    "try:\n",
    "\n",
    "    # Variable generator\n",
    "    def var_gen():\n",
    "        global var\n",
    "        global rand\n",
    "\n",
    "        word = \"num_\"\n",
    "        rand = str(rd.randint(1, 50))\n",
    "        var = word + rand\n",
    "        return (var)\n",
    "\n",
    "\n",
    "# Matrix generator\n",
    "\n",
    "\n",
    "    def mix():\n",
    "        fst_order = int(input(\"Enter the first order: \"))\n",
    "        sec_order = int(input(\"Enter the second order: \"))\n",
    "        mat = np.ones((fst_order, sec_order))\n",
    "        for i in range(fst_order):\n",
    "            for y in range(sec_order):\n",
    "                mat[i, y] = int(input(\"Enter the elements here: \"))\n",
    "        print(mat)\n",
    "        return mat\n",
    "\n",
    "    print('You can use a maximum of three matrices')\n",
    "    mat_num = int(input(\"Enter the number of matrices you wish to use: \"))\n",
    "    qst = input(\"Do you wish to multiply your matrices(Yes / No): \").capitalize()\n",
    "\n",
    "    def multi_():\n",
    "        mat_gen = var_gen()\n",
    "        mat_gen = mix()\n",
    "        return mat_gen\n",
    "\n",
    "    i = 0\n",
    "    if qst == \"Yes\":\n",
    "        i += 1\n",
    "        print(f\"Enter the elements of matrix {i}\")\n",
    "        matrix1 = multi_()\n",
    "\n",
    "        i += 1\n",
    "        print(f\"Enter the elements of matrix {i}\")\n",
    "        matrix2 = multi_()\n",
    "\n",
    "        result = matrix1.dot(matrix2)\n",
    "        if mat_num == 3:\n",
    "            i += 1\n",
    "            print(f\"Enter the elements of matrix {i}\")\n",
    "            matrix3 = multi_()\n",
    "            result = result.dot(matrix3)\n",
    "        print(\"The result is: \\n\", result)\n",
    "\n",
    "    else:\n",
    "        quest = input(\"Do you want to add your matrices: \").capitalize()\n",
    "        if quest == \"No\":\n",
    "            quest_1 = input(\n",
    "                \"Do you want to subtract your matrices instead:  \").capitalize()\n",
    "        else:\n",
    "            pass\n",
    "\n",
    "    # Addition & Subtraction\n",
    "\n",
    "    def arith_():\n",
    "        if quest == \"Yes\":\n",
    "            add = mat_1 + mat_2 + mat_3\n",
    "            print(\"The result is: \\n\", add)\n",
    "        else:\n",
    "            subt = mat1 - mat2 - mat3\n",
    "            print(\"The result is: \\n\", subt)\n",
    "\n",
    "    # Addition\n",
    "    if quest == \"Yes\":\n",
    "        mat_1 = mix()\n",
    "        mat_2 = mix()\n",
    "        if mat_num == 3:\n",
    "            mat_3 = mix()\n",
    "        arith_()\n",
    "\n",
    "    # Subtraction\n",
    "    else:\n",
    "        mat1 = mix()\n",
    "        mat2 = mix()\n",
    "        if mat_num == 3:\n",
    "            mat3 = mix()\n",
    "        arith_()\n",
    "\n",
    "except Exception as error:\n",
    "    pass\n",
    "    # print(f'There error here was: \\n',Exception)\n"
   ]
  }
 ],
 "metadata": {
  "kernelspec": {
   "display_name": "base",
   "language": "python",
   "name": "python3"
  },
  "language_info": {
   "codemirror_mode": {
    "name": "ipython",
    "version": 3
   },
   "file_extension": ".py",
   "mimetype": "text/x-python",
   "name": "python",
   "nbconvert_exporter": "python",
   "pygments_lexer": "ipython3",
   "version": "3.9.12"
  },
  "orig_nbformat": 4,
  "vscode": {
   "interpreter": {
    "hash": "39c7b37d6762cfe19229bab84e4ee64294204dff90d2328d694afe7c1bd1a71d"
   }
  }
 },
 "nbformat": 4,
 "nbformat_minor": 2
}
